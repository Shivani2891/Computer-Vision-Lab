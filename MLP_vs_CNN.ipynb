{
  "nbformat": 4,
  "nbformat_minor": 0,
  "metadata": {
    "colab": {
      "name": "MLP vs CNN.ipynb",
      "provenance": [],
      "collapsed_sections": []
    },
    "kernelspec": {
      "name": "python3",
      "display_name": "Python 3"
    },
    "language_info": {
      "name": "python"
    }
  },
  "cells": [
    {
      "cell_type": "code",
      "execution_count": null,
      "metadata": {
        "id": "fxK1y1h-4StQ"
      },
      "outputs": [],
      "source": [
        "import pandas as pd\n",
        "import numpy as np\n",
        "from skimage.io import imread, imsave\n",
        "from tqdm import tqdm\n",
        "import matplotlib.pyplot as plt\n",
        "%matplotlib inline\n",
        "import cv2"
      ]
    },
    {
      "cell_type": "code",
      "source": [
        "from google.colab import drive\n",
        "drive.mount('/gdrive')\n",
        "%cd /gdrive"
      ],
      "metadata": {
        "colab": {
          "base_uri": "https://localhost:8080/"
        },
        "id": "Hup6sTeQ4i7n",
        "outputId": "a3d0b312-1331-4c20-bbbb-f8a73c6c9586"
      },
      "execution_count": null,
      "outputs": [
        {
          "output_type": "stream",
          "name": "stdout",
          "text": [
            "Mounted at /gdrive\n",
            "/gdrive\n"
          ]
        }
      ]
    },
    {
      "cell_type": "code",
      "source": [
        "# loading dataset\n",
        "data = pd.read_csv('/gdrive/MyDrive/emergency_vs_non-emergency_dataset/emergency_vs_non-emergency_dataset/emergency_train.csv')\n",
        "data.head()"
      ],
      "metadata": {
        "colab": {
          "base_uri": "https://localhost:8080/",
          "height": 206
        },
        "id": "nR8RO3W64jAL",
        "outputId": "a4c6706c-30f8-4a22-ebec-f604aeba058d"
      },
      "execution_count": null,
      "outputs": [
        {
          "output_type": "execute_result",
          "data": {
            "text/html": [
              "<div>\n",
              "<style scoped>\n",
              "    .dataframe tbody tr th:only-of-type {\n",
              "        vertical-align: middle;\n",
              "    }\n",
              "\n",
              "    .dataframe tbody tr th {\n",
              "        vertical-align: top;\n",
              "    }\n",
              "\n",
              "    .dataframe thead th {\n",
              "        text-align: right;\n",
              "    }\n",
              "</style>\n",
              "<table border=\"1\" class=\"dataframe\">\n",
              "  <thead>\n",
              "    <tr style=\"text-align: right;\">\n",
              "      <th></th>\n",
              "      <th>image_names</th>\n",
              "      <th>emergency_or_not</th>\n",
              "    </tr>\n",
              "  </thead>\n",
              "  <tbody>\n",
              "    <tr>\n",
              "      <th>0</th>\n",
              "      <td>1503.jpg</td>\n",
              "      <td>0</td>\n",
              "    </tr>\n",
              "    <tr>\n",
              "      <th>1</th>\n",
              "      <td>1420.jpg</td>\n",
              "      <td>0</td>\n",
              "    </tr>\n",
              "    <tr>\n",
              "      <th>2</th>\n",
              "      <td>1764.jpg</td>\n",
              "      <td>0</td>\n",
              "    </tr>\n",
              "    <tr>\n",
              "      <th>3</th>\n",
              "      <td>1356.jpg</td>\n",
              "      <td>0</td>\n",
              "    </tr>\n",
              "    <tr>\n",
              "      <th>4</th>\n",
              "      <td>1117.jpg</td>\n",
              "      <td>0</td>\n",
              "    </tr>\n",
              "  </tbody>\n",
              "</table>\n",
              "</div>"
            ],
            "text/plain": [
              "  image_names  emergency_or_not\n",
              "0    1503.jpg                 0\n",
              "1    1420.jpg                 0\n",
              "2    1764.jpg                 0\n",
              "3    1356.jpg                 0\n",
              "4    1117.jpg                 0"
            ]
          },
          "metadata": {},
          "execution_count": 3
        }
      ]
    },
    {
      "cell_type": "code",
      "source": [
        "# loading images\n",
        "train_img = []\n",
        "for img_name in tqdm(data['image_names']):\n",
        "    image_path = '/gdrive/MyDrive/emergency_vs_non-emergency_dataset/emergency_vs_non-emergency_dataset/images/' + img_name\n",
        "    img = imread(image_path)\n",
        "    img = img/255\n",
        "    img = cv2.resize(img,(128,128))\n",
        "    train_img.append(img)\n",
        "\n",
        "train_x = np.array(train_img)\n",
        "train_y = data['emergency_or_not'].values\n",
        "train_x.shape, train_y.shape"
      ],
      "metadata": {
        "colab": {
          "base_uri": "https://localhost:8080/"
        },
        "id": "NpZZVMRA6IKe",
        "outputId": "105365af-ec3d-41dc-c8fe-2eb0e03dd5c9"
      },
      "execution_count": null,
      "outputs": [
        {
          "output_type": "stream",
          "name": "stderr",
          "text": [
            "100%|██████████| 1646/1646 [19:19<00:00,  1.42it/s]\n"
          ]
        },
        {
          "output_type": "execute_result",
          "data": {
            "text/plain": [
              "((1646, 128, 128, 3), (1646,))"
            ]
          },
          "metadata": {},
          "execution_count": 4
        }
      ]
    },
    {
      "cell_type": "code",
      "source": [
        "print(train_y)"
      ],
      "metadata": {
        "colab": {
          "base_uri": "https://localhost:8080/"
        },
        "id": "1I6zMFAMIgJX",
        "outputId": "77e3ef23-6022-4b41-c1f3-b982bd693e8f"
      },
      "execution_count": null,
      "outputs": [
        {
          "output_type": "stream",
          "name": "stdout",
          "text": [
            "[1 1 0 ... 1 0 0]\n"
          ]
        }
      ]
    },
    {
      "cell_type": "code",
      "source": [
        "from sklearn.model_selection import train_test_split\n",
        "train_x, val_x, train_y, val_y = train_test_split(train_x, train_y, test_size = 0.1, random_state = 13, stratify=train_y)\n",
        "(train_x.shape, train_y.shape), (val_x.shape, val_y.shape)"
      ],
      "metadata": {
        "colab": {
          "base_uri": "https://localhost:8080/"
        },
        "id": "LRTZRoYw7cDC",
        "outputId": "4dd00143-c5ea-4557-9920-4b060623ca8d"
      },
      "execution_count": null,
      "outputs": [
        {
          "output_type": "execute_result",
          "data": {
            "text/plain": [
              "(((1481, 128, 128, 3), (1481,)), ((165, 128, 128, 3), (165,)))"
            ]
          },
          "metadata": {},
          "execution_count": 5
        }
      ]
    },
    {
      "cell_type": "code",
      "source": [
        "print(train_y)\n",
        "print(val_y)"
      ],
      "metadata": {
        "colab": {
          "base_uri": "https://localhost:8080/"
        },
        "id": "amSlwIjKIp_L",
        "outputId": "633e021d-4ded-4529-c88a-9eaa05048dd6"
      },
      "execution_count": null,
      "outputs": [
        {
          "output_type": "stream",
          "name": "stdout",
          "text": [
            "[1 1 0 ... 1 0 0]\n",
            "[0 1 1 0 1 1 1 1 0 1 0 0 1 0 1 1 1 0 0 0 1 1 1 0 0 0 0 1 0 0 0 0 0 1 1 0 0\n",
            " 0 1 1 0 1 0 0 1 0 0 0 0 0 0 0 0 0 0 0 0 0 1 1 0 1 1 0 0 1 1 1 1 1 1 1 1 0\n",
            " 0 0 0 1 0 0 1 1 0 0 0 0 0 0 0 0 0 1 1 0 0 0 0 1 0 1 0 0 1 0 1 0 1 0 0 0 1\n",
            " 0 1 1 0 1 1 0 1 0 0 1 1 1 1 0 1 0 0 0 0 1 1 0 1 1 0 0 0 0 0 0 0 0 0 0 1 1\n",
            " 1 1 1 0 0 0 1 0 1 0 1 0 0 1 0 1 0]\n"
          ]
        }
      ]
    },
    {
      "cell_type": "code",
      "source": [
        ""
      ],
      "metadata": {
        "id": "sZifsfYBIMpZ"
      },
      "execution_count": null,
      "outputs": []
    },
    {
      "cell_type": "code",
      "source": [
        "import keras\n",
        "import tensorflow as tf\n",
        "model = keras.Sequential([\n",
        "            keras.layers.Flatten(input_shape=(128,128,3)),\n",
        "            keras.layers.Dense(256,activation =tf.nn.tanh),\n",
        "            keras.layers.Dense(2,activation = tf.nn.softmax)\n",
        "])\n"
      ],
      "metadata": {
        "id": "N0B6YzON9Kl_"
      },
      "execution_count": null,
      "outputs": []
    },
    {
      "cell_type": "code",
      "source": [
        "model.summary()"
      ],
      "metadata": {
        "colab": {
          "base_uri": "https://localhost:8080/"
        },
        "id": "SC90wMp99Kwo",
        "outputId": "943574a3-a65e-44d2-e7d7-20f9af77ccc4"
      },
      "execution_count": null,
      "outputs": [
        {
          "output_type": "stream",
          "name": "stdout",
          "text": [
            "Model: \"sequential\"\n",
            "_________________________________________________________________\n",
            " Layer (type)                Output Shape              Param #   \n",
            "=================================================================\n",
            " flatten (Flatten)           (None, 49152)             0         \n",
            "                                                                 \n",
            " dense (Dense)               (None, 256)               12583168  \n",
            "                                                                 \n",
            " dense_1 (Dense)             (None, 2)                 514       \n",
            "                                                                 \n",
            "=================================================================\n",
            "Total params: 12,583,682\n",
            "Trainable params: 12,583,682\n",
            "Non-trainable params: 0\n",
            "_________________________________________________________________\n"
          ]
        }
      ]
    },
    {
      "cell_type": "code",
      "source": [
        "model.compile(optimizer=tf.keras.optimizers.Adam(),\n",
        "              loss ='sparse_categorical_crossentropy',\n",
        "              metrics=['accuracy'])"
      ],
      "metadata": {
        "id": "aCWW50T27cQb"
      },
      "execution_count": null,
      "outputs": []
    },
    {
      "cell_type": "code",
      "source": [
        "model.fit(train_x,train_y,epochs=5)"
      ],
      "metadata": {
        "colab": {
          "base_uri": "https://localhost:8080/"
        },
        "id": "Ug79JAEdCBIA",
        "outputId": "2d88876f-1f84-4445-f249-95ca8c39d14c"
      },
      "execution_count": null,
      "outputs": [
        {
          "output_type": "stream",
          "name": "stdout",
          "text": [
            "Epoch 1/5\n",
            "47/47 [==============================] - 6s 104ms/step - loss: 8.3500 - accuracy: 0.4139\n",
            "Epoch 2/5\n",
            "47/47 [==============================] - 6s 122ms/step - loss: 0.8037 - accuracy: 0.5368\n",
            "Epoch 3/5\n",
            "47/47 [==============================] - 5s 107ms/step - loss: 0.6807 - accuracy: 0.5861\n",
            "Epoch 4/5\n",
            "47/47 [==============================] - 5s 109ms/step - loss: 0.6835 - accuracy: 0.5861\n",
            "Epoch 5/5\n",
            "47/47 [==============================] - 5s 107ms/step - loss: 0.6831 - accuracy: 0.5861\n"
          ]
        },
        {
          "output_type": "execute_result",
          "data": {
            "text/plain": [
              "<keras.callbacks.History at 0x7fe43b50be90>"
            ]
          },
          "metadata": {},
          "execution_count": 10
        }
      ]
    },
    {
      "cell_type": "code",
      "source": [
        "model.fit(train_x,train_y,epochs=20)"
      ],
      "metadata": {
        "colab": {
          "base_uri": "https://localhost:8080/"
        },
        "id": "Z5aLwKghCBSN",
        "outputId": "c7b4d9d0-6e09-4f2f-c447-4c78dd863393"
      },
      "execution_count": null,
      "outputs": [
        {
          "output_type": "stream",
          "name": "stdout",
          "text": [
            "Epoch 1/20\n",
            "47/47 [==============================] - 4s 78ms/step - loss: 0.6898 - accuracy: 0.5544\n",
            "Epoch 2/20\n",
            "47/47 [==============================] - 4s 77ms/step - loss: 0.6983 - accuracy: 0.5571\n",
            "Epoch 3/20\n",
            "47/47 [==============================] - 4s 77ms/step - loss: 0.6882 - accuracy: 0.5665\n",
            "Epoch 4/20\n",
            "47/47 [==============================] - 4s 78ms/step - loss: 0.6866 - accuracy: 0.5672\n",
            "Epoch 5/20\n",
            "47/47 [==============================] - 4s 77ms/step - loss: 0.6865 - accuracy: 0.5618\n",
            "Epoch 6/20\n",
            "47/47 [==============================] - 4s 77ms/step - loss: 0.6839 - accuracy: 0.5699\n",
            "Epoch 7/20\n",
            "47/47 [==============================] - 4s 77ms/step - loss: 0.6898 - accuracy: 0.5591\n",
            "Epoch 8/20\n",
            "47/47 [==============================] - 4s 77ms/step - loss: 0.6824 - accuracy: 0.5726\n",
            "Epoch 9/20\n",
            "47/47 [==============================] - 4s 87ms/step - loss: 0.6829 - accuracy: 0.5861\n",
            "Epoch 10/20\n",
            "47/47 [==============================] - 4s 78ms/step - loss: 0.6886 - accuracy: 0.5625\n",
            "Epoch 11/20\n",
            "47/47 [==============================] - 4s 77ms/step - loss: 0.6903 - accuracy: 0.5658\n",
            "Epoch 12/20\n",
            "47/47 [==============================] - 4s 78ms/step - loss: 0.6937 - accuracy: 0.5354\n",
            "Epoch 13/20\n",
            "47/47 [==============================] - 4s 77ms/step - loss: 0.6952 - accuracy: 0.5712\n",
            "Epoch 14/20\n",
            "47/47 [==============================] - 4s 77ms/step - loss: 0.6929 - accuracy: 0.5510\n",
            "Epoch 15/20\n",
            "47/47 [==============================] - 4s 77ms/step - loss: 0.6916 - accuracy: 0.5510\n",
            "Epoch 16/20\n",
            "47/47 [==============================] - 4s 77ms/step - loss: 0.6833 - accuracy: 0.5861\n",
            "Epoch 17/20\n",
            "47/47 [==============================] - 4s 77ms/step - loss: 0.6863 - accuracy: 0.5699\n",
            "Epoch 18/20\n",
            "47/47 [==============================] - 4s 77ms/step - loss: 0.6969 - accuracy: 0.5638\n",
            "Epoch 19/20\n",
            "47/47 [==============================] - 4s 78ms/step - loss: 0.6904 - accuracy: 0.5672\n",
            "Epoch 20/20\n",
            "47/47 [==============================] - 4s 78ms/step - loss: 0.6876 - accuracy: 0.5584\n"
          ]
        },
        {
          "output_type": "execute_result",
          "data": {
            "text/plain": [
              "<keras.callbacks.History at 0x7fe43b3e5910>"
            ]
          },
          "metadata": {},
          "execution_count": 12
        }
      ]
    },
    {
      "cell_type": "code",
      "source": [
        "# evaluate the model\n",
        "scores = model.evaluate(val_x, val_y, verbose=0)\n",
        "print(\"%s: %.2f%%\" % (model.metrics_names[1], scores[1]*100))\n"
      ],
      "metadata": {
        "colab": {
          "base_uri": "https://localhost:8080/"
        },
        "id": "jFwapPAQDJdZ",
        "outputId": "9500ba67-873b-4f51-ec83-84f368f54e13"
      },
      "execution_count": null,
      "outputs": [
        {
          "output_type": "stream",
          "name": "stdout",
          "text": [
            "accuracy: 41.21%\n"
          ]
        }
      ]
    },
    {
      "cell_type": "code",
      "source": [
        "\n",
        "# predict probabilities for test set\n",
        "yhat_probs = model.predict(val_x, verbose=0)\n",
        "# predict crisp classes for test set\n",
        "yhat_classes = np.argmax(model.predict(val_x), axis=-1)"
      ],
      "metadata": {
        "id": "cYLCcspbFKlh"
      },
      "execution_count": null,
      "outputs": []
    },
    {
      "cell_type": "code",
      "source": [
        "from sklearn.metrics import plot_confusion_matrix\n",
        "class newmodel(model):\n",
        "    def __init__(self, model):\n",
        "        self.model = model\n",
        "    def predict(self, val_x):\n",
        "        val_y = self.model.predict(val_x)\n",
        "        return np.argmax(val_x,axis=1)\n",
        "\n",
        "model1 = newmodel(model)\n",
        "plot_confusion_matrix(model1,val_x, val_y , normalize='true', xticks_rotation = 'vertical', display_labels = list(train_generator.class_indices.keys()))"
      ],
      "metadata": {
        "id": "KiUIFFqFKRJw"
      },
      "execution_count": null,
      "outputs": []
    },
    {
      "cell_type": "code",
      "source": [
        "# predict probabilities for test set\n",
        "yhat_probs = model.predict(val_x,batch_size=10,verbose=0)"
      ],
      "metadata": {
        "id": "pCjNypyAKRTm"
      },
      "execution_count": null,
      "outputs": []
    },
    {
      "cell_type": "code",
      "source": [
        "# predict crisp classes for test set\n",
        "yhat_classes = np.argmax(model.predict(val_x), axis=-1)"
      ],
      "metadata": {
        "id": "8PIxAQw8MTzq"
      },
      "execution_count": null,
      "outputs": []
    },
    {
      "cell_type": "code",
      "source": [
        "for i in yhat_classes:\n",
        "  print(i)"
      ],
      "metadata": {
        "colab": {
          "base_uri": "https://localhost:8080/"
        },
        "id": "rhBrBUkDMeHM",
        "outputId": "9f8a8539-096a-4bad-843d-5f659922528b"
      },
      "execution_count": null,
      "outputs": [
        {
          "output_type": "stream",
          "name": "stdout",
          "text": [
            "1\n",
            "1\n",
            "1\n",
            "1\n",
            "1\n",
            "1\n",
            "1\n",
            "1\n",
            "1\n",
            "1\n",
            "1\n",
            "1\n",
            "1\n",
            "1\n",
            "1\n",
            "1\n",
            "1\n",
            "1\n",
            "1\n",
            "1\n",
            "1\n",
            "1\n",
            "1\n",
            "1\n",
            "1\n",
            "1\n",
            "1\n",
            "1\n",
            "1\n",
            "1\n",
            "1\n",
            "1\n",
            "1\n",
            "1\n",
            "1\n",
            "1\n",
            "1\n",
            "1\n",
            "1\n",
            "1\n",
            "1\n",
            "1\n",
            "1\n",
            "1\n",
            "1\n",
            "1\n",
            "1\n",
            "1\n",
            "1\n",
            "1\n",
            "1\n",
            "1\n",
            "1\n",
            "1\n",
            "1\n",
            "1\n",
            "1\n",
            "1\n",
            "1\n",
            "1\n",
            "1\n",
            "1\n",
            "1\n",
            "1\n",
            "1\n",
            "1\n",
            "1\n",
            "1\n",
            "1\n",
            "1\n",
            "1\n",
            "1\n",
            "1\n",
            "1\n",
            "1\n",
            "1\n",
            "1\n",
            "1\n",
            "1\n",
            "1\n",
            "1\n",
            "1\n",
            "1\n",
            "1\n",
            "1\n",
            "1\n",
            "1\n",
            "1\n",
            "1\n",
            "1\n",
            "1\n",
            "1\n",
            "1\n",
            "1\n",
            "1\n",
            "1\n",
            "1\n",
            "1\n",
            "1\n",
            "1\n",
            "1\n",
            "1\n",
            "1\n",
            "1\n",
            "1\n",
            "1\n",
            "1\n",
            "1\n",
            "1\n",
            "1\n",
            "1\n",
            "1\n",
            "1\n",
            "1\n",
            "1\n",
            "1\n",
            "1\n",
            "1\n",
            "1\n",
            "1\n",
            "1\n",
            "1\n",
            "1\n",
            "1\n",
            "1\n",
            "1\n",
            "1\n",
            "1\n",
            "1\n",
            "1\n",
            "1\n",
            "1\n",
            "1\n",
            "1\n",
            "1\n",
            "1\n",
            "1\n",
            "1\n",
            "1\n",
            "1\n",
            "1\n",
            "1\n",
            "1\n",
            "1\n",
            "1\n",
            "1\n",
            "1\n",
            "1\n",
            "1\n",
            "1\n",
            "1\n",
            "1\n",
            "1\n",
            "1\n",
            "1\n",
            "1\n",
            "1\n",
            "1\n",
            "1\n",
            "1\n",
            "1\n",
            "1\n",
            "1\n",
            "1\n",
            "1\n"
          ]
        }
      ]
    },
    {
      "cell_type": "code",
      "source": [
        "\n",
        "import itertools\n",
        "from sklearn.metrics import confusion_matrix, ConfusionMatrixDisplay\n"
      ],
      "metadata": {
        "id": "-G6lrvn4Mute"
      },
      "execution_count": null,
      "outputs": []
    },
    {
      "cell_type": "code",
      "source": [
        "cm= confusion_matrix(val_y,yhat_classes)\n"
      ],
      "metadata": {
        "id": "2wg6XrznM_Kf"
      },
      "execution_count": null,
      "outputs": []
    },
    {
      "cell_type": "code",
      "source": [
        "disp =ConfusionMatrixDisplay(cm)\n",
        "disp.plot()"
      ],
      "metadata": {
        "colab": {
          "base_uri": "https://localhost:8080/",
          "height": 297
        },
        "id": "agmWz8s4PxST",
        "outputId": "95ff38b7-133b-4427-a8f2-3fda4d7b9480"
      },
      "execution_count": null,
      "outputs": [
        {
          "output_type": "execute_result",
          "data": {
            "text/plain": [
              "<sklearn.metrics._plot.confusion_matrix.ConfusionMatrixDisplay at 0x7fe43b34b150>"
            ]
          },
          "metadata": {},
          "execution_count": 33
        },
        {
          "output_type": "display_data",
          "data": {
            "image/png": "[encoded data removed]",
            "text/plain": [
              "<Figure size 432x288 with 2 Axes>"
            ]
          },
          "metadata": {
            "needs_background": "light"
          }
        }
      ]
    },
    {
      "cell_type": "code",
      "source": [
        "import keras\n",
        "from keras.models import Sequential\n",
        "from keras.layers import Dense, Conv2D , MaxPool2D , Flatten , Dropout \n",
        "from keras.preprocessing.image import ImageDataGenerator\n",
        "\n",
        "\n",
        "from sklearn.metrics import classification_report,confusion_matrix\n",
        "\n",
        "import tensorflow as tf\n",
        "\n",
        "import cv2\n",
        "import os"
      ],
      "metadata": {
        "id": "2E1zaAi6Q6qf"
      },
      "execution_count": null,
      "outputs": []
    },
    {
      "cell_type": "code",
      "source": [
        "modelcnn = Sequential()\n",
        "modelcnn.add(Conv2D(32,3,padding=\"same\", activation=\"relu\", input_shape=(128,128,3)))\n",
        "modelcnn.add(MaxPool2D())\n",
        "\n",
        "modelcnn.add(Conv2D(32, 3, padding=\"same\", activation=\"relu\"))\n",
        "modelcnn.add(MaxPool2D())\n",
        "\n",
        "modelcnn.add(Conv2D(64, 3, padding=\"same\", activation=\"relu\"))\n",
        "modelcnn.add(MaxPool2D())\n",
        "modelcnn.add(Dropout(0.4))\n",
        "\n",
        "modelcnn.add(Flatten())\n",
        "modelcnn.add(Dense(128,activation=\"relu\"))\n",
        "modelcnn.add(Dense(2, activation=\"softmax\"))\n",
        "\n",
        "modelcnn.summary()"
      ],
      "metadata": {
        "colab": {
          "base_uri": "https://localhost:8080/"
        },
        "id": "TwnIXLscQ602",
        "outputId": "da9eaa07-d315-433c-ec73-a1414d5522a0"
      },
      "execution_count": null,
      "outputs": [
        {
          "output_type": "stream",
          "name": "stdout",
          "text": [
            "Model: \"sequential_3\"\n",
            "_________________________________________________________________\n",
            " Layer (type)                Output Shape              Param #   \n",
            "=================================================================\n",
            " conv2d_6 (Conv2D)           (None, 128, 128, 32)      896       \n",
            "                                                                 \n",
            " max_pooling2d_6 (MaxPooling  (None, 64, 64, 32)       0         \n",
            " 2D)                                                             \n",
            "                                                                 \n",
            " conv2d_7 (Conv2D)           (None, 64, 64, 32)        9248      \n",
            "                                                                 \n",
            " max_pooling2d_7 (MaxPooling  (None, 32, 32, 32)       0         \n",
            " 2D)                                                             \n",
            "                                                                 \n",
            " conv2d_8 (Conv2D)           (None, 32, 32, 64)        18496     \n",
            "                                                                 \n",
            " max_pooling2d_8 (MaxPooling  (None, 16, 16, 64)       0         \n",
            " 2D)                                                             \n",
            "                                                                 \n",
            " dropout_2 (Dropout)         (None, 16, 16, 64)        0         \n",
            "                                                                 \n",
            " flatten_3 (Flatten)         (None, 16384)             0         \n",
            "                                                                 \n",
            " dense_6 (Dense)             (None, 128)               2097280   \n",
            "                                                                 \n",
            " dense_7 (Dense)             (None, 2)                 258       \n",
            "                                                                 \n",
            "=================================================================\n",
            "Total params: 2,126,178\n",
            "Trainable params: 2,126,178\n",
            "Non-trainable params: 0\n",
            "_________________________________________________________________\n"
          ]
        }
      ]
    },
    {
      "cell_type": "code",
      "source": [
        "modelcnn.compile(optimizer=tf.keras.optimizers.Adam(),\n",
        "              loss ='sparse_categorical_crossentropy',\n",
        "              metrics=['accuracy'])"
      ],
      "metadata": {
        "id": "5RWdnCOCQ64W"
      },
      "execution_count": null,
      "outputs": []
    },
    {
      "cell_type": "code",
      "source": [
        "history = modelcnn.fit(train_x,train_y,epochs = 20 , validation_data = (val_x,val_y))"
      ],
      "metadata": {
        "colab": {
          "base_uri": "https://localhost:8080/"
        },
        "id": "N1jdDPAsR6pq",
        "outputId": "83df354b-1480-4ba8-89ef-17cae094b862"
      },
      "execution_count": null,
      "outputs": [
        {
          "output_type": "stream",
          "name": "stdout",
          "text": [
            "Epoch 1/20\n",
            "47/47 [==============================] - 33s 683ms/step - loss: 0.7012 - accuracy: 0.6307 - val_loss: 0.6091 - val_accuracy: 0.6485\n",
            "Epoch 2/20\n",
            "47/47 [==============================] - 32s 678ms/step - loss: 0.5574 - accuracy: 0.7171 - val_loss: 0.4760 - val_accuracy: 0.7758\n",
            "Epoch 3/20\n",
            "47/47 [==============================] - 34s 731ms/step - loss: 0.4689 - accuracy: 0.7900 - val_loss: 0.4523 - val_accuracy: 0.7818\n",
            "Epoch 4/20\n",
            "47/47 [==============================] - 32s 682ms/step - loss: 0.4130 - accuracy: 0.8130 - val_loss: 0.4401 - val_accuracy: 0.8061\n",
            "Epoch 5/20\n",
            "47/47 [==============================] - 48s 1s/step - loss: 0.3483 - accuracy: 0.8427 - val_loss: 0.4122 - val_accuracy: 0.8424\n",
            "Epoch 6/20\n",
            "47/47 [==============================] - 42s 891ms/step - loss: 0.3131 - accuracy: 0.8629 - val_loss: 0.3999 - val_accuracy: 0.8364\n",
            "Epoch 7/20\n",
            "47/47 [==============================] - 32s 682ms/step - loss: 0.2648 - accuracy: 0.8926 - val_loss: 0.4726 - val_accuracy: 0.8000\n",
            "Epoch 8/20\n",
            "47/47 [==============================] - 47s 997ms/step - loss: 0.2163 - accuracy: 0.9122 - val_loss: 0.3964 - val_accuracy: 0.8424\n",
            "Epoch 9/20\n",
            "47/47 [==============================] - 32s 682ms/step - loss: 0.1633 - accuracy: 0.9332 - val_loss: 0.4425 - val_accuracy: 0.8182\n",
            "Epoch 10/20\n",
            "47/47 [==============================] - 32s 686ms/step - loss: 0.1486 - accuracy: 0.9446 - val_loss: 0.4512 - val_accuracy: 0.8303\n",
            "Epoch 11/20\n",
            "47/47 [==============================] - 32s 689ms/step - loss: 0.1269 - accuracy: 0.9541 - val_loss: 0.4740 - val_accuracy: 0.7879\n",
            "Epoch 12/20\n",
            "47/47 [==============================] - 32s 686ms/step - loss: 0.1054 - accuracy: 0.9561 - val_loss: 0.5413 - val_accuracy: 0.8182\n",
            "Epoch 13/20\n",
            "47/47 [==============================] - 32s 681ms/step - loss: 0.0780 - accuracy: 0.9743 - val_loss: 0.4846 - val_accuracy: 0.8424\n",
            "Epoch 14/20\n",
            "47/47 [==============================] - 32s 681ms/step - loss: 0.0685 - accuracy: 0.9764 - val_loss: 0.5006 - val_accuracy: 0.7879\n",
            "Epoch 15/20\n",
            "47/47 [==============================] - 32s 681ms/step - loss: 0.0552 - accuracy: 0.9824 - val_loss: 0.5620 - val_accuracy: 0.8242\n",
            "Epoch 16/20\n",
            "47/47 [==============================] - 32s 685ms/step - loss: 0.0430 - accuracy: 0.9851 - val_loss: 0.6605 - val_accuracy: 0.7939\n",
            "Epoch 17/20\n",
            "47/47 [==============================] - 32s 683ms/step - loss: 0.0483 - accuracy: 0.9818 - val_loss: 0.5677 - val_accuracy: 0.8303\n",
            "Epoch 18/20\n",
            "47/47 [==============================] - 32s 677ms/step - loss: 0.0511 - accuracy: 0.9797 - val_loss: 0.7593 - val_accuracy: 0.8242\n",
            "Epoch 19/20\n",
            "47/47 [==============================] - 32s 679ms/step - loss: 0.0686 - accuracy: 0.9791 - val_loss: 0.5864 - val_accuracy: 0.8424\n",
            "Epoch 20/20\n",
            "47/47 [==============================] - 33s 713ms/step - loss: 0.0404 - accuracy: 0.9851 - val_loss: 0.6500 - val_accuracy: 0.8121\n"
          ]
        }
      ]
    },
    {
      "cell_type": "code",
      "source": [
        "acc = history.history['accuracy']\n",
        "val_acc = history.history['val_accuracy']\n",
        "loss = history.history['loss']\n",
        "val_loss = history.history['val_loss']"
      ],
      "metadata": {
        "id": "tsVbrc4MR6tB"
      },
      "execution_count": null,
      "outputs": []
    },
    {
      "cell_type": "code",
      "source": [
        "predictions = np.argmax(modelcnn.predict(val_x), axis=-1)\n",
        "predictions = predictions.reshape(1,-1)[0]\n",
        "print(classification_report(val_y, predictions))"
      ],
      "metadata": {
        "colab": {
          "base_uri": "https://localhost:8080/"
        },
        "id": "8eKXQiguS35M",
        "outputId": "a7d2f7ec-719d-4779-e091-ee203341d23e"
      },
      "execution_count": null,
      "outputs": [
        {
          "output_type": "stream",
          "name": "stdout",
          "text": [
            "              precision    recall  f1-score   support\n",
            "\n",
            "           0       0.83      0.86      0.84        97\n",
            "           1       0.78      0.75      0.77        68\n",
            "\n",
            "    accuracy                           0.81       165\n",
            "   macro avg       0.81      0.80      0.80       165\n",
            "weighted avg       0.81      0.81      0.81       165\n",
            "\n"
          ]
        }
      ]
    },
    {
      "cell_type": "code",
      "source": [
        "print(classification_report(val_y, yhat_classes))"
      ],
      "metadata": {
        "colab": {
          "base_uri": "https://localhost:8080/"
        },
        "id": "F_mka2wfVgB4",
        "outputId": "2ffc5fd8-65e8-4687-9a70-94f1f15b8afd"
      },
      "execution_count": null,
      "outputs": [
        {
          "output_type": "stream",
          "name": "stdout",
          "text": [
            "              precision    recall  f1-score   support\n",
            "\n",
            "           0       0.00      0.00      0.00        97\n",
            "           1       0.41      1.00      0.58        68\n",
            "\n",
            "    accuracy                           0.41       165\n",
            "   macro avg       0.21      0.50      0.29       165\n",
            "weighted avg       0.17      0.41      0.24       165\n",
            "\n"
          ]
        },
        {
          "output_type": "stream",
          "name": "stderr",
          "text": [
            "/usr/local/lib/python3.7/dist-packages/sklearn/metrics/_classification.py:1308: UndefinedMetricWarning: Precision and F-score are ill-defined and being set to 0.0 in labels with no predicted samples. Use `zero_division` parameter to control this behavior.\n",
            "  _warn_prf(average, modifier, msg_start, len(result))\n",
            "/usr/local/lib/python3.7/dist-packages/sklearn/metrics/_classification.py:1308: UndefinedMetricWarning: Precision and F-score are ill-defined and being set to 0.0 in labels with no predicted samples. Use `zero_division` parameter to control this behavior.\n",
            "  _warn_prf(average, modifier, msg_start, len(result))\n",
            "/usr/local/lib/python3.7/dist-packages/sklearn/metrics/_classification.py:1308: UndefinedMetricWarning: Precision and F-score are ill-defined and being set to 0.0 in labels with no predicted samples. Use `zero_division` parameter to control this behavior.\n",
            "  _warn_prf(average, modifier, msg_start, len(result))\n"
          ]
        }
      ]
    }
  ]
}